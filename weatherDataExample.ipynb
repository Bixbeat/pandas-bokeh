{
 "cells": [
  {
   "cell_type": "code",
   "execution_count": 9,
   "metadata": {
    "collapsed": false
   },
   "outputs": [],
   "source": [
    "def loadWeatherData(fileName, getSpatialData = True):\n",
    "    retrievedData = []\n",
    "    \n",
    "    with open(fileName) as loadedData:\n",
    "        readData = loadedData.readlines()\n",
    "\n",
    "        \n",
    "        if getSpatialData == True:\n",
    "            uncleanedSpatialData = readData[5:55]\n",
    "            \n",
    "            #Splitting and cleaning of metadata lines\n",
    "            splitSpatialData = [i.split() for i in uncleanedSpatialData[:]]\n",
    "            \n",
    "            spatialData = map(lambda array: array[0] == array[0][:-1], splitSpatialData)\n",
    "    \n",
    "    #TODO: Load weather data\n",
    "    return spatialData\n"
   ]
  },
  {
   "cell_type": "code",
   "execution_count": 11,
   "metadata": {
    "collapsed": false
   },
   "outputs": [
    {
     "ename": "NameError",
     "evalue": "name 'uncleanedSpatialData' is not defined",
     "output_type": "error",
     "traceback": [
      "\u001b[0;31m---------------------------------------------------------------------------\u001b[0m",
      "\u001b[0;31mNameError\u001b[0m                                 Traceback (most recent call last)",
      "\u001b[0;32m<ipython-input-11-f800b65de457>\u001b[0m in \u001b[0;36m<module>\u001b[0;34m()\u001b[0m\n\u001b[0;32m----> 1\u001b[0;31m \u001b[1;32mprint\u001b[0m \u001b[0muncleanedSpatialData\u001b[0m\u001b[1;33m\u001b[0m\u001b[0m\n\u001b[0m\u001b[1;32m      2\u001b[0m \u001b[1;33m\u001b[0m\u001b[0m\n\u001b[1;32m      3\u001b[0m \u001b[0mloadWeatherData\u001b[0m\u001b[1;33m(\u001b[0m\u001b[1;34mr'D:\\git\\pandas-bokeh\\data\\KNMI_20161227.txt'\u001b[0m\u001b[1;33m)\u001b[0m\u001b[1;33m\u001b[0m\u001b[0m\n",
      "\u001b[0;31mNameError\u001b[0m: name 'uncleanedSpatialData' is not defined"
     ]
    }
   ],
   "source": [
    "loadWeatherData(r'D:\\git\\pandas-bokeh\\data\\KNMI_20161227.txt')"
   ]
  },
  {
   "cell_type": "code",
   "execution_count": null,
   "metadata": {
    "collapsed": true
   },
   "outputs": [],
   "source": []
  }
 ],
 "metadata": {
  "anaconda-cloud": {},
  "kernelspec": {
   "display_name": "Python [py27]",
   "language": "python",
   "name": "Python [py27]"
  },
  "language_info": {
   "codemirror_mode": {
    "name": "ipython",
    "version": 2
   },
   "file_extension": ".py",
   "mimetype": "text/x-python",
   "name": "python",
   "nbconvert_exporter": "python",
   "pygments_lexer": "ipython2",
   "version": "2.7.12"
  }
 },
 "nbformat": 4,
 "nbformat_minor": 0
}

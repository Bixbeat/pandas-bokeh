{
 "cells": [
  {
   "cell_type": "code",
   "execution_count": 1,
   "metadata": {
    "collapsed": false
   },
   "outputs": [],
   "source": [
    "import pandas as pd\n",
    "import numpy as np\n",
    "from pandasql import sqldf\n",
    "import folium\n",
    "#import bokeh"
   ]
  },
  {
   "cell_type": "code",
   "execution_count": 2,
   "metadata": {
    "collapsed": true
   },
   "outputs": [],
   "source": [
    "#source: http://projects.knmi.nl/klimatologie/daggegevens/selectie.cgi\n",
    "file_name = r'D:\\git\\pandas-bokeh\\data\\KNMI_20161227.txt'"
   ]
  },
  {
   "cell_type": "code",
   "execution_count": 3,
   "metadata": {
    "collapsed": false
   },
   "outputs": [],
   "source": [
    "def load_weather_data(file_name,station_numbers):\n",
    "    \n",
    "    weather_header_list = []\n",
    "    weather_dict = {}\n",
    "    spatial_header_list = []\n",
    "    spatial_dict = {}\n",
    "    \n",
    "    def clear_whitespace(element, characters_to_remove):\n",
    "        characters_in_element = [character for character in list(element) if character not in characters_to_remove]\n",
    "        cleaned_element = ''.join(characters_in_element)\n",
    "        return cleaned_element\n",
    "    \n",
    "    def process_headers(header_line, header_list, header_dict, separator, unique_id = 'False'):\n",
    "        selected_header_line = header_line\n",
    "        split_header_list = selected_header_line.split(separator)\n",
    "        #Determine headers in the main file (operations in order: remove hashtag, append main body, remove trailing line break)\n",
    "        uncleaned_header_list = [split_header_list[0][2:]]\\\n",
    "                            + split_header_list[1:-1] \\\n",
    "                            + [split_header_list[-1][:-1]]\n",
    "                \n",
    "        for element in uncleaned_header_list:\n",
    "            cleaned_header = clear_whitespace(element, (' '))\n",
    "            #Ensure that only valid headers are added (empty = not appended)\n",
    "            if len(cleaned_header) > 0:\n",
    "                header_list.append(cleaned_header)\n",
    "                header_dict[cleaned_header] = []\n",
    "        if unique_id == True:\n",
    "            header_list.append('ID')\n",
    "            header_dict['ID'] = []\n",
    "            \n",
    "    \n",
    "    with open(file_name) as data:\n",
    "        loaded_data = data.readlines()\n",
    "        \n",
    "        '''Process weather data header'''\n",
    "        process_headers(loaded_data[97], weather_header_list, weather_dict, ',', unique_id = True)\n",
    "        \n",
    "        '''Process main weather data'''\n",
    "        uncleaned_weather_data = [line for line in loaded_data[100:] if line[2:5] in station_numbers]#stationNumber]\n",
    "        weather_data = [line.split(',') for line in uncleaned_weather_data[:]]        \n",
    "        \n",
    "        for linenumber, lines in enumerate(weather_data):\n",
    "            for element_number, elements in enumerate(lines):\n",
    "                cleaned_element = clear_whitespace(elements,(' ', '\\n'))\n",
    "                #Error handling required to prevent unexpected EOF while parsing - no known alternatives         \n",
    "                try:\n",
    "                    evaluated_value = eval(cleaned_element)\n",
    "                    weather_dict[weather_header_list[element_number]].append(evaluated_value)                    \n",
    "                except:\n",
    "                    weather_dict[weather_header_list[element_number]].append(cleaned_element)\n",
    "            weather_dict['ID'].append(linenumber)\n",
    "        \n",
    "        '''Process spatail data headers'''   \n",
    "        process_headers(loaded_data[4], spatial_header_list, spatial_dict, ' ')\n",
    "        \n",
    "        '''Process main spatial data'''\n",
    "        uncleaned_spatial_data = loaded_data[5:55]\n",
    "        #Splitting spatial data lines\n",
    "        split_spatial_data = [line.split() for line in uncleaned_spatial_data[:]]    \n",
    "        spatial_data = list(map(lambda values: values[1:], split_spatial_data))\n",
    "        #Remove trailing colon after first element\n",
    "        for lines in spatial_data:\n",
    "            lines[0] = lines[0][:-1]\n",
    "            while len(lines) > len(spatial_header_list):\n",
    "                lines[len(spatial_header_list)-1] = str(lines[len(spatial_header_list)-1]) + ' ' + str(lines[len(spatial_header_list)])\n",
    "                del lines[len(spatial_header_list)]\n",
    "            for element_number, element in enumerate(lines):\n",
    "                try:\n",
    "                    spatial_dict[spatial_header_list[element_number]].append(eval(element))\n",
    "                except:\n",
    "                    spatial_dict[spatial_header_list[element_number]].append(element)\n",
    "        \n",
    "        '''Combine header files'''\n",
    "        headers = weather_header_list[:] + spatial_header_list[:]\n",
    "            \n",
    "    return weather_dict, spatial_dict, headers"
   ]
  },
  {
   "cell_type": "code",
   "execution_count": 5,
   "metadata": {
    "collapsed": true
   },
   "outputs": [],
   "source": [
    "perform_SQL = lambda q: sqldf(q, globals())"
   ]
  },
  {
   "cell_type": "code",
   "execution_count": 6,
   "metadata": {
    "collapsed": false
   },
   "outputs": [],
   "source": [
    "#Joining the two datasets together\n",
    "def join_dataframes(weather_dict, spatial_dict):\n",
    "    weather_DF = pd.DataFrame(weather_dict)[1:].apply(pd.to_numeric)\n",
    "    spatial_DF = pd.DataFrame(spatial_dict)\n",
    "\n",
    "    #Runtime is about 5mins\n",
    "    sql = \"\"\"\n",
    "            SELECT * FROM weather_DF\n",
    "            JOIN spatial_DF ON spatial_DF.stn = weather_DF.stn;\n",
    "          \"\"\"\n",
    "\n",
    "    weather_and_spatial_data_DF = perform_SQL(sql)\n",
    "    return weather_and_spatial_data_DF"
   ]
  },
  {
   "cell_type": "code",
   "execution_count": 6,
   "metadata": {
    "collapsed": false
   },
   "outputs": [],
   "source": [
    "def get_unique_stations(file_name):\n",
    "    with open(file_name) as data:\n",
    "        loaded_data = data.readlines()\n",
    "        unique_numbers = sorted(list(set(list([line[2:5] for line in loaded_data[100:]]))))\n",
    "    return unique_numbers\n",
    "unique_station_numbers = get_unique_stations(file_name)\n",
    "unique_station_numbers = ['225']"
   ]
  },
  {
   "cell_type": "code",
   "execution_count": 15,
   "metadata": {
    "collapsed": false
   },
   "outputs": [
    {
     "data": {
      "text/html": [
       "<div style=\"width:100%;\"><div style=\"position:relative;width:100%;height:0;padding-bottom:60%;\"><iframe src=\"data:text/html;base64,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\" style=\"position:absolute;width:100%;height:100%;left:0;top:0;\"></iframe></div></div>"
      ],
      "text/plain": [
       "<folium.folium.Map at 0x8b34278>"
      ]
     },
     "execution_count": 15,
     "metadata": {},
     "output_type": "execute_result"
    }
   ],
   "source": [
    "#Runtime for an avg selection takes about 5min per marker\n",
    "#Gathers data using SQL queries which is then added to the markers\n",
    "\n",
    "weather_map = folium.Map(location=[52.092560, 5.109378],zoom_start = 8)\n",
    "\n",
    "for number in unique_station_numbers:\n",
    "    loaded_data = load_weather_data(file_name, number)\n",
    "\n",
    "    weather_DF = pd.DataFrame(loaded_data[0])[1:].apply(pd.to_numeric)\n",
    "    spatial_DF = pd.DataFrame(loaded_data[1])    \n",
    "    \n",
    "    #Get weather data\n",
    "    sql = \"\"\"\n",
    "            SELECT STN, MAX(FHX) FROM weather_DF\n",
    "            WHERE STN = {unique_station_numbers}\n",
    "          \"\"\".format(unique_station_numbers = number)\n",
    "    max_wind_speed_list = perform_SQL(sql).to_csv(None, header=False, index=False).split('\\n')[:-1]\n",
    "    max_wind_speed_list = max_wind_speed_list[0].split(',')\n",
    "    \n",
    "    #Get dates with fastest decreasing temperatures\n",
    "    sql = \"\"\"\n",
    "            SELECT day1.yyyymmdd, day1.ID, day1.TG, IFNULL(day1.TG - day2.TG, 0) AS difference\n",
    "            FROM weather_DF as day1\n",
    "                JOIN weather_DF day2 ON day1.STN = day2.STN AND day2.ID - day1.ID == 1\n",
    "            ORDER BY difference DESC\n",
    "          \"\"\"\n",
    "    biggest_tempdif_list = perform_SQL(sql).to_csv(None, header=False, index=False).split('\\n')[:-1]\n",
    "    biggest_tempdif_list = biggest_tempdif_list[0].split(',')\n",
    "\n",
    "    try:\n",
    "        biggest_temperature_formatted = float(biggest_tempdif_list[2])/10\n",
    "    except:\n",
    "        biggest_temperature_formatted = \"no data\"\n",
    "    temp_dif_date = biggest_tempdif_list[0]\n",
    "    \n",
    "    #Get spatial data\n",
    "    sql = \"\"\"\n",
    "            SELECT \"LAT(north)\", \"LON(east)\" FROM spatial_DF\n",
    "            WHERE STN = {unique_station_numbers}\n",
    "          \"\"\".format(unique_station_numbers = number)\n",
    "    spatial_data_list = perform_SQL(sql).to_csv(None, header=False, index=False).split('\\n')[:-1]\n",
    "    spatial_data_list = spatial_data_list[0].split(',')\n",
    "\n",
    "    #Create Folium marker\n",
    "    folium.Marker([spatial_data_list[0], spatial_data_list[1]],\\\n",
    "        popup=folium.Popup(folium.element.IFrame(html=\\\n",
    "        '''\n",
    "            <b>Station:</b>                              {stn} <br>\n",
    "            <b>Maximum wind speed:</b>                   {fg} <br>\n",
    "            <b>Maximum temperature drop in two days:</b> {temp} C <br>\n",
    "            <b>Date of max temp dif:</b>                 {date}\n",
    "        '''.format(stn = max_wind_speed_list[0],\\\n",
    "                   fg = max_wind_speed_list[1],\\\n",
    "                   temp = biggest_temperature_formatted,\\\n",
    "                   date = temp_dif_date),\\\n",
    "        width=350, height=120),\\\n",
    "        max_width=350)).add_to(weather_map)\n",
    "    weather_map.save('weather_map.html')\n",
    "    \n",
    "weather_map.save('weather_map.html')\n",
    "weather_map"
   ]
  },
  {
   "cell_type": "code",
   "execution_count": null,
   "metadata": {
    "collapsed": true
   },
   "outputs": [],
   "source": []
  }
 ],
 "metadata": {
  "anaconda-cloud": {},
  "kernelspec": {
   "display_name": "Python [py27]",
   "language": "python",
   "name": "Python [py27]"
  },
  "language_info": {
   "codemirror_mode": {
    "name": "ipython",
    "version": 2
   },
   "file_extension": ".py",
   "mimetype": "text/x-python",
   "name": "python",
   "nbconvert_exporter": "python",
   "pygments_lexer": "ipython2",
   "version": "2.7.12"
  }
 },
 "nbformat": 4,
 "nbformat_minor": 0
}

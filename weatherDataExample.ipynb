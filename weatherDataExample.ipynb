{
 "cells": [
  {
   "cell_type": "code",
   "execution_count": 27,
   "metadata": {
    "collapsed": false
   },
   "outputs": [
    {
     "ename": "SyntaxError",
     "evalue": "future feature eval is not defined (<ipython-input-27-2522e9f26c8d>, line 1)",
     "output_type": "error",
     "traceback": [
      "\u001b[0;36m  File \u001b[0;32m\"<ipython-input-27-2522e9f26c8d>\"\u001b[0;36m, line \u001b[0;32m1\u001b[0m\n\u001b[0;31m    from __future__ import eval\u001b[0m\n\u001b[0;31mSyntaxError\u001b[0m\u001b[0;31m:\u001b[0m future feature eval is not defined\n"
     ]
    }
   ],
   "source": [
    "def loadWeatherData(fileName, getSpatialData = True):\n",
    "    retrievedData = []\n",
    "    \n",
    "    with open(fileName) as data:\n",
    "        loadedData = data.readlines()\n",
    "\n",
    "        #TODO: Load weather data\n",
    "        uncleanedWeatherData = loadedData[99:200]\n",
    "        weatherData = [i.split(',') for i in uncleanedWeatherData[:]]\n",
    "        for lines in weatherData:\n",
    "            for i, values in enumerate(lines):\n",
    "                chars = [char for char in list(values) if i not in (' ', '\\n')]\n",
    "                lines[i] = ''.join(chars)\n",
    "                \n",
    "                #Error handling required to prevent unexpected EOF while parsing         \n",
    "                try:\n",
    "                    lines[i] = eval(lines[i])\n",
    "                except:\n",
    "                    pass\n",
    "                    \n",
    "            \n",
    "        if getSpatialData == True:\n",
    "            uncleanedSpatialData = loadedData[5:55]\n",
    "            \n",
    "            #Splitting and cleaning of metadata lines\n",
    "            splitSpatialData = [i.split() for i in uncleanedSpatialData[:]]\n",
    "                       \n",
    "            spatialData = list(map(lambda values: values[1:], splitSpatialData))\n",
    "            for lines in spatialData:\n",
    "                lines[0] = lines[0][:-1]\n",
    "    return weatherData, spatialData"
   ]
  },
  {
   "cell_type": "code",
   "execution_count": 26,
   "metadata": {
    "collapsed": false
   },
   "outputs": [
    {
     "ename": "SyntaxError",
     "evalue": "unexpected EOF while parsing (<string>, line 0)",
     "output_type": "error",
     "traceback": [
      "\u001b[0;36m  File \u001b[0;32m\"<string>\"\u001b[0;36m, line \u001b[0;32munknown\u001b[0m\n\u001b[0;31m    \u001b[0m\n\u001b[0m    ^\u001b[0m\n\u001b[0;31mSyntaxError\u001b[0m\u001b[0;31m:\u001b[0m unexpected EOF while parsing\n"
     ]
    }
   ],
   "source": [
    "data = loadWeatherData(r'D:\\git\\pandas-bokeh\\data\\KNMI_20161227.txt')"
   ]
  },
  {
   "cell_type": "code",
   "execution_count": 20,
   "metadata": {
    "collapsed": false
   },
   "outputs": [
    {
     "name": "stdout",
     "output_type": "stream",
     "text": [
      "[209, 20010209, 22, 40, 48, 100, 1, 20, 20, 130, 3, '     ', '     ', '     ', '     ', '     ', '     ', '     ', '     ', '     ', '     ', '     ', '     ', '     ', '     ', '     ', '     ', '     ', '     ', '     ', '     ', '     ', '     ', '     ', '     ', '     ', '     ', '     ', '     ', '     ', '     \\n']\n"
     ]
    }
   ],
   "source": [
    "print data[0][10]"
   ]
  },
  {
   "cell_type": "code",
   "execution_count": null,
   "metadata": {
    "collapsed": true
   },
   "outputs": [],
   "source": []
  }
 ],
 "metadata": {
  "anaconda-cloud": {},
  "kernelspec": {
   "display_name": "Python [py27]",
   "language": "python",
   "name": "Python [py27]"
  },
  "language_info": {
   "codemirror_mode": {
    "name": "ipython",
    "version": 2
   },
   "file_extension": ".py",
   "mimetype": "text/x-python",
   "name": "python",
   "nbconvert_exporter": "python",
   "pygments_lexer": "ipython2",
   "version": "2.7.12"
  }
 },
 "nbformat": 4,
 "nbformat_minor": 0
}
